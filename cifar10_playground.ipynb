{
 "cells": [
  {
   "cell_type": "markdown",
   "id": "708d1700-9fee-456c-bddc-c884e7e0b77b",
   "metadata": {},
   "source": [
    "# Import Libraries "
   ]
  },
  {
   "cell_type": "code",
   "execution_count": 1,
   "id": "2c0849f1-48a9-4b67-936d-b624101b6858",
   "metadata": {},
   "outputs": [],
   "source": [
    "from __future__ import print_function\n",
    "import torch\n",
    "import torch.nn as nn\n",
    "import torch.nn.functional as F\n",
    "import torch.optim as optim\n",
    "from torchvision import datasets, transforms\n",
    "from torchinfo import summary\n",
    "import models as cifar_models\n",
    "import torch.optim as optim\n"
   ]
  },
  {
   "cell_type": "markdown",
   "id": "6d924046-4f1c-4af2-ae61-5f579b57b30e",
   "metadata": {},
   "source": [
    "# Set the GPU device"
   ]
  },
  {
   "cell_type": "code",
   "execution_count": 2,
   "id": "88a96a6c-30c3-4906-803a-0a1f767cb9ed",
   "metadata": {},
   "outputs": [
    {
     "name": "stdout",
     "output_type": "stream",
     "text": [
      "Apple MPS is available\n"
     ]
    }
   ],
   "source": [
    "# Is GPU available\n",
    "device = torch.device(\"cpu\")\n",
    "is_gpu_available = False\n",
    "\n",
    "if torch.cuda.is_available():\n",
    "    print(\"CUDA is available\")\n",
    "    device = torch.device(\"cuda:0\")\n",
    "    is_gpu_available = True\n",
    "elif torch.backends.mps.is_available():\n",
    "    print(\"Apple MPS is available\")\n",
    "    device = torch.device(\"mps:0\")\n",
    "    is_gpu_available = True\n",
    "\n",
    "torch.set_default_device(device)"
   ]
  },
  {
   "cell_type": "markdown",
   "id": "efb277da-df46-4656-8c8f-498fe02989b2",
   "metadata": {},
   "source": [
    "# Download and prepare the dataset"
   ]
  },
  {
   "cell_type": "code",
   "execution_count": 56,
   "id": "e6b54360-5c1c-4ae6-adac-3a7b32a23e08",
   "metadata": {},
   "outputs": [
    {
     "name": "stdout",
     "output_type": "stream",
     "text": [
      "Files already downloaded and verified\n",
      "Files already downloaded and verified\n"
     ]
    }
   ],
   "source": [
    "batch_size = 128\n",
    "# Train Phase transformations\n",
    "train_transforms = transforms.Compose([\n",
    "    transforms.ToTensor(),\n",
    "    transforms.Normalize((0.4914, 0.4822, 0.4465), (0.2470, 0.2435, 0.2616))\n",
    "])\n",
    "\n",
    "# Test Phase transformations\n",
    "test_transforms = transforms.Compose([\n",
    "    transforms.ToTensor(),\n",
    "    transforms.Normalize((0.4914, 0.4822, 0.4465), (0.2470, 0.2435, 0.2616))\n",
    "])\n",
    "\n",
    "# Data\n",
    "train_data = datasets.CIFAR10('./data', train=True, download=True, transform=train_transforms)\n",
    "test_data  = datasets.CIFAR10('./data', train=False, download=True, transform=test_transforms)\n",
    "\n",
    "# Data loaders\n",
    "dataloader_args = dict(shuffle=True, batch_size=128, num_workers=4, pin_memory=True) if is_gpu_available else dict(shuffle=True, batch_size=64)\n",
    "\n",
    "# train dataloader\n",
    "train_data_loader = torch.utils.data.DataLoader(train_data, **dataloader_args)\n",
    "# test dataloader\n",
    "test_data_loader = torch.utils.data.DataLoader(test_data, **dataloader_args)\n",
    "\n",
    "# print(exp_data.class_to_idx)\n",
    "# {'airplane': 0, 'automobile': 1, 'bird': 2, 'cat': 3, 'deer': 4, 'dog': 5, 'frog': 6, 'horse': 7, 'ship': 8, 'truck': 9}\n",
    "classes = ('airplane', 'automobile', 'bird', 'cat', 'deer', 'dog', 'frog', 'horse', 'ship', 'truck')"
   ]
  },
  {
   "cell_type": "markdown",
   "id": "ed97c0ae-b33d-407c-a075-fffbf58b66a8",
   "metadata": {},
   "source": [
    "# Model"
   ]
  },
  {
   "cell_type": "markdown",
   "id": "7b7f54da-ad89-4cd0-aa24-83725497d420",
   "metadata": {},
   "source": [
    "# Summary"
   ]
  },
  {
   "cell_type": "code",
   "execution_count": 4,
   "id": "61b7e678-7584-4bc8-9c1a-79da7e82c247",
   "metadata": {},
   "outputs": [
    {
     "data": {
      "text/plain": [
       "==========================================================================================\n",
       "Layer (type:depth-idx)                   Output Shape              Param #\n",
       "==========================================================================================\n",
       "NetBN                                    [16, 10]                  --\n",
       "├─Conv2d: 1-1                            [1, 32, 32, 32]           896\n",
       "├─Conv2d: 1-2                            [1, 64, 32, 32]           18,496\n",
       "├─Conv2d: 1-3                            [1, 64, 32, 32]           4,160\n",
       "├─MaxPool2d: 1-4                         [1, 64, 16, 16]           --\n",
       "├─Conv2d: 1-5                            [1, 128, 16, 16]          73,856\n",
       "├─Conv2d: 1-6                            [1, 256, 16, 16]          295,168\n",
       "├─Conv2d: 1-7                            [1, 512, 16, 16]          1,180,160\n",
       "├─Conv2d: 1-8                            [1, 512, 16, 16]          262,656\n",
       "├─MaxPool2d: 1-9                         [1, 512, 8, 8]            --\n",
       "├─Conv2d: 1-10                           [1, 1024, 8, 8]           4,719,616\n",
       "├─Conv2d: 1-11                           [1, 2048, 8, 8]           18,876,416\n",
       "├─Conv2d: 1-12                           [1, 4096, 8, 8]           75,501,568\n",
       "├─AvgPool2d: 1-13                        [1, 4096, 4, 4]           --\n",
       "├─Conv2d: 1-14                           [1, 10, 4, 4]             40,970\n",
       "==========================================================================================\n",
       "Total params: 100,973,962\n",
       "Trainable params: 100,973,962\n",
       "Non-trainable params: 0\n",
       "Total mult-adds (Units.GIGABYTES): 6.83\n",
       "==========================================================================================\n",
       "Input size (MB): 0.01\n",
       "Forward/backward pass size (MB): 7.87\n",
       "Params size (MB): 403.90\n",
       "Estimated Total Size (MB): 411.77\n",
       "=========================================================================================="
      ]
     },
     "execution_count": 4,
     "metadata": {},
     "output_type": "execute_result"
    }
   ],
   "source": [
    "model = cifar_models.NetBN().to(device)\n",
    "summary(model=model, input_size=(1, 3, 32, 32))"
   ]
  },
  {
   "cell_type": "markdown",
   "id": "8cc166a5-6afe-4a38-af6f-71e3eb5c508b",
   "metadata": {},
   "source": [
    "# Define a Loss function and optimizer"
   ]
  },
  {
   "cell_type": "code",
   "execution_count": 7,
   "id": "86bfd2c4-429c-4fd1-9cdd-1fe5b021a166",
   "metadata": {},
   "outputs": [],
   "source": [
    "criterion = nn.NLLLoss()\n",
    "optimiser = optim.SGD(params=model.parameters(), lr=0.001, momentum=0.9)"
   ]
  },
  {
   "cell_type": "markdown",
   "id": "ff5d4ec3-c315-46ad-ab07-49c2fc42e747",
   "metadata": {},
   "source": [
    "## Train"
   ]
  },
  {
   "cell_type": "code",
   "execution_count": 53,
   "id": "c409898b-0070-4fda-943e-74e5c258c447",
   "metadata": {},
   "outputs": [],
   "source": [
    "def train(\n",
    "    model: 'torch.nn.Module', \n",
    "    train_data_loader: 'torch.utils.data.DataLoader', \n",
    "    criterion: 'torch.nn.NLLLoss', \n",
    "    optimiser: 'torch.optim.Optimizer', \n",
    "    epoch, \n",
    "    device = torch.device(\"cpu\")\n",
    "):\n",
    "    model.to(device)\n",
    "    model.train()\n",
    "    running_loss = 0.0\n",
    "\n",
    "    for batch_idx, data in enumerate(train_data_loader):\n",
    "        # get the inputs; data is a list of [inputs, labels]\n",
    "        inputs, labels = data[0].to(device), data[1].to(device)\n",
    "        \n",
    "        # zero the parameter gradients\n",
    "        optimiser.zero_grad()\n",
    "        # In PyTorch, we need to set the gradients to zero before starting to do backpropragation because PyTorch accumulates the gradients on subsequent backward passes. \n",
    "        # Because of this, when you start your training loop, ideally you should zero out the gradients so that you do the parameter update correctly.\n",
    "        \n",
    "        # forward + backward + optimize\n",
    "        outputs = model(inputs)\n",
    "\n",
    "        loss = criterion(outputs, labels)\n",
    "        loss.backward()\n",
    "\n",
    "        optimiser.step()\n",
    "\n",
    "        # print statistics\n",
    "        running_loss += loss.item()\n",
    "    \n",
    "    return running_loss\n"
   ]
  },
  {
   "cell_type": "markdown",
   "id": "67bfa8e5-4ce8-4fe2-aa38-ba7e3329119d",
   "metadata": {},
   "source": [
    "## Test"
   ]
  },
  {
   "cell_type": "code",
   "execution_count": 54,
   "id": "8e25652f-c31e-4616-a1ee-15ac6049acc4",
   "metadata": {},
   "outputs": [],
   "source": [
    "def test(\n",
    "    model: 'torch.nn.Module', \n",
    "    test_data_loader: 'torch.utils.data.DataLoader', \n",
    "    # criterion: 'torch.nn.NLLLoss', \n",
    "    # optimiser: 'torch.optim.Optimizer', \n",
    "    epoch, \n",
    "    device = torch.device(\"cpu\")\n",
    "):\n",
    "    model.to(device)\n",
    "    correct = 0\n",
    "    total = 0\n",
    "\n",
    "    # prepare to count predictions for each class\n",
    "    correct_pred = {classname: 0 for classname in classes}\n",
    "    total_pred = {classname: 0 for classname in classes}\n",
    "\n",
    "    model.eval()\n",
    "    \n",
    "    with torch.no_grad():\n",
    "        for batch_idx, data in enumerate(test_data_loader):\n",
    "            images, labels = data[0].to(device), data[1].to(device)\n",
    "            \n",
    "            # calculate outputs by running images through the network\n",
    "            outputs = net(images)\n",
    "            \n",
    "            # the class with the highest energy is what we choose as prediction\n",
    "            _, predictions = torch.max(outputs.data, 1)\n",
    "            # collect the correct predictions for each class\n",
    "            for label, prediction in zip(labels, predictions):\n",
    "                if label == prediction:\n",
    "                    correct_pred[classes[label]] += 1\n",
    "                total_pred[classes[label]] += 1\n",
    "\n",
    "            total += labels.size(0)\n",
    "            correct += (predictions == labels).sum().item()\n",
    "\n",
    "    # print accuracy for each class\n",
    "    for classname, correct_count in correct_pred.items():\n",
    "        accuracy = 100 * float(correct_count) / total_pred[classname]\n",
    "        print(f'Accuracy for class: {classname:5s} is {accuracy:.1f} %')\n",
    "    \n",
    "    print(f'Accuracy of the network on the 10000 test images: {100 * correct // total} %')\n"
   ]
  },
  {
   "cell_type": "code",
   "execution_count": 51,
   "id": "7437daf5-3334-45e4-bd86-6546280ca413",
   "metadata": {},
   "outputs": [
    {
     "name": "stdout",
     "output_type": "stream",
     "text": [
      "tensor([[-0.6575, -0.5631, -1.0503, -1.2959,  0.2355],\n",
      "        [ 0.9320,  0.1236, -0.1550,  0.6014, -0.1993],\n",
      "        [ 0.5076,  0.0553,  0.5386, -0.1183, -0.5739],\n",
      "        [-0.2839, -0.9171, -0.7745,  0.1310, -0.5602]], device='mps:0')\n",
      "\n",
      "dim: 2 size: torch.Size([4, 5]) shape: torch.Size([4, 5])\n",
      "tensor([0., 0., 0., 0., 0.], device='mps:0')\n",
      "tensor([0., 0., 0., 0., 0.], device='mps:0')\n",
      "tensor([True, True, True, True, True], device='mps:0')\n",
      "5\n"
     ]
    }
   ],
   "source": [
    "a = torch.randn(4, 5)\n",
    "print(a)\n",
    "print(f\"\\ndim: {a.dim()} size: {a.size()} shape: {a.shape}\")\n",
    "\n",
    "torch.max(a, 1)\n",
    "\n",
    "b = torch.zeros(5)\n",
    "print(b)\n",
    "\n",
    "c = torch.zeros(5)\n",
    "print(c)\n",
    "\n",
    "print(b == c)\n",
    "print((b == c).sum().item())"
   ]
  },
  {
   "cell_type": "code",
   "execution_count": null,
   "id": "82ae9d01-4a4a-4849-bac5-6c9f20522356",
   "metadata": {},
   "outputs": [],
   "source": []
  }
 ],
 "metadata": {
  "kernelspec": {
   "display_name": "Python 3 (ipykernel)",
   "language": "python",
   "name": "python3"
  },
  "language_info": {
   "codemirror_mode": {
    "name": "ipython",
    "version": 3
   },
   "file_extension": ".py",
   "mimetype": "text/x-python",
   "name": "python",
   "nbconvert_exporter": "python",
   "pygments_lexer": "ipython3",
   "version": "3.11.7"
  }
 },
 "nbformat": 4,
 "nbformat_minor": 5
}
