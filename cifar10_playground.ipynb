{
 "cells": [
  {
   "cell_type": "markdown",
   "id": "708d1700-9fee-456c-bddc-c884e7e0b77b",
   "metadata": {},
   "source": [
    "# Import Libraries "
   ]
  },
  {
   "cell_type": "code",
   "execution_count": 2,
   "id": "2c0849f1-48a9-4b67-936d-b624101b6858",
   "metadata": {},
   "outputs": [],
   "source": [
    "from __future__ import print_function\n",
    "import torch\n",
    "import torch.nn as nn\n",
    "import torch.nn.functional as F\n",
    "import torch.optim as optim\n",
    "from torchvision import datasets, transforms\n",
    "from torchinfo import summary\n",
    "import models as cifar_models"
   ]
  },
  {
   "cell_type": "markdown",
   "id": "6d924046-4f1c-4af2-ae61-5f579b57b30e",
   "metadata": {},
   "source": [
    "# Set the GPU device"
   ]
  },
  {
   "cell_type": "code",
   "execution_count": 6,
   "id": "88a96a6c-30c3-4906-803a-0a1f767cb9ed",
   "metadata": {},
   "outputs": [
    {
     "name": "stdout",
     "output_type": "stream",
     "text": [
      "Apple MPS is available\n"
     ]
    }
   ],
   "source": [
    "# Is GPU available\n",
    "device = torch.device(\"cpu\")\n",
    "is_gpu_available = False\n",
    "\n",
    "if torch.cuda.is_available():\n",
    "    print(\"CUDA is available\")\n",
    "    device = torch.device(\"cuda:0\")\n",
    "    is_gpu_available = True\n",
    "elif torch.backends.mps.is_available():\n",
    "    print(\"Apple MPS is available\")\n",
    "    device = torch.device(\"mps:0\")\n",
    "    is_gpu_available = True\n",
    "\n",
    "torch.set_default_device(device)"
   ]
  },
  {
   "cell_type": "markdown",
   "id": "efb277da-df46-4656-8c8f-498fe02989b2",
   "metadata": {},
   "source": [
    "# Download and prepare the dataset"
   ]
  },
  {
   "cell_type": "code",
   "execution_count": 7,
   "id": "e6b54360-5c1c-4ae6-adac-3a7b32a23e08",
   "metadata": {},
   "outputs": [
    {
     "name": "stdout",
     "output_type": "stream",
     "text": [
      "Files already downloaded and verified\n",
      "Files already downloaded and verified\n"
     ]
    }
   ],
   "source": [
    "batch_size = 128\n",
    "# Train Phase transformations\n",
    "train_transforms = transforms.Compose([\n",
    "    transforms.ToTensor(),\n",
    "    transforms.Normalize((0.4914, 0.4822, 0.4465), (0.2470, 0.2435, 0.2616))\n",
    "])\n",
    "\n",
    "# Test Phase transformations\n",
    "test_transforms = transforms.Compose([\n",
    "    transforms.ToTensor(),\n",
    "    transforms.Normalize((0.4914, 0.4822, 0.4465), (0.2470, 0.2435, 0.2616))\n",
    "])\n",
    "\n",
    "# Data\n",
    "train_data = datasets.CIFAR10('./data', train=True, download=True, transform=train_transforms)\n",
    "test_data  = datasets.CIFAR10('./data', train=False, download=True, transform=test_transforms)\n",
    "\n",
    "# Data loaders\n",
    "dataloader_args = dict(shuffle=True, batch_size=128, num_workers=4, pin_memory=True) if is_gpu_available else dict(shuffle=True, batch_size=64)\n",
    "\n",
    "# train dataloader\n",
    "train_data_loader = torch.utils.data.DataLoader(train_data, **dataloader_args)\n",
    "# test dataloader\n",
    "test_data_loader = torch.utils.data.DataLoader(test_data, **dataloader_args)"
   ]
  },
  {
   "cell_type": "markdown",
   "id": "ed97c0ae-b33d-407c-a075-fffbf58b66a8",
   "metadata": {},
   "source": [
    "# Model"
   ]
  },
  {
   "cell_type": "markdown",
   "id": "7b7f54da-ad89-4cd0-aa24-83725497d420",
   "metadata": {},
   "source": [
    "# Summary"
   ]
  },
  {
   "cell_type": "code",
   "execution_count": 8,
   "id": "61b7e678-7584-4bc8-9c1a-79da7e82c247",
   "metadata": {},
   "outputs": [
    {
     "data": {
      "text/plain": [
       "==========================================================================================\n",
       "Layer (type:depth-idx)                   Output Shape              Param #\n",
       "==========================================================================================\n",
       "NetBN                                    [16, 10]                  --\n",
       "├─Conv2d: 1-1                            [1, 32, 32, 32]           896\n",
       "├─Conv2d: 1-2                            [1, 64, 32, 32]           18,496\n",
       "├─Conv2d: 1-3                            [1, 64, 32, 32]           4,160\n",
       "├─MaxPool2d: 1-4                         [1, 64, 16, 16]           --\n",
       "├─Conv2d: 1-5                            [1, 128, 16, 16]          73,856\n",
       "├─Conv2d: 1-6                            [1, 256, 16, 16]          295,168\n",
       "├─Conv2d: 1-7                            [1, 512, 16, 16]          1,180,160\n",
       "├─Conv2d: 1-8                            [1, 512, 16, 16]          262,656\n",
       "├─MaxPool2d: 1-9                         [1, 512, 8, 8]            --\n",
       "├─Conv2d: 1-10                           [1, 1024, 8, 8]           4,719,616\n",
       "├─Conv2d: 1-11                           [1, 2048, 8, 8]           18,876,416\n",
       "├─Conv2d: 1-12                           [1, 4096, 8, 8]           75,501,568\n",
       "├─AvgPool2d: 1-13                        [1, 4096, 4, 4]           --\n",
       "├─Conv2d: 1-14                           [1, 10, 4, 4]             40,970\n",
       "==========================================================================================\n",
       "Total params: 100,973,962\n",
       "Trainable params: 100,973,962\n",
       "Non-trainable params: 0\n",
       "Total mult-adds (Units.GIGABYTES): 6.83\n",
       "==========================================================================================\n",
       "Input size (MB): 0.01\n",
       "Forward/backward pass size (MB): 7.87\n",
       "Params size (MB): 403.90\n",
       "Estimated Total Size (MB): 411.77\n",
       "=========================================================================================="
      ]
     },
     "execution_count": 8,
     "metadata": {},
     "output_type": "execute_result"
    }
   ],
   "source": [
    "model = cifar_models.NetBN().to(device)\n",
    "summary(model=model, input_size=(1, 3, 32, 32))"
   ]
  },
  {
   "cell_type": "code",
   "execution_count": null,
   "id": "ed1ce88d-c32f-46be-a94b-d020d8bf9367",
   "metadata": {},
   "outputs": [],
   "source": []
  }
 ],
 "metadata": {
  "kernelspec": {
   "display_name": "Python 3 (ipykernel)",
   "language": "python",
   "name": "python3"
  },
  "language_info": {
   "codemirror_mode": {
    "name": "ipython",
    "version": 3
   },
   "file_extension": ".py",
   "mimetype": "text/x-python",
   "name": "python",
   "nbconvert_exporter": "python",
   "pygments_lexer": "ipython3",
   "version": "3.11.7"
  }
 },
 "nbformat": 4,
 "nbformat_minor": 5
}
